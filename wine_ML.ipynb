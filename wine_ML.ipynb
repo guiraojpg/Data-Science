{
  "nbformat": 4,
  "nbformat_minor": 0,
  "metadata": {
    "colab": {
      "name": "wine ML.ipynb",
      "provenance": [],
      "mount_file_id": "1pb4Nz8zTEELOU0pR5lEjUgvEpmz4NJup",
      "authorship_tag": "ABX9TyOVBEBv/tRYlMO2+Pj/0aSC"
    },
    "kernelspec": {
      "name": "python3",
      "display_name": "Python 3"
    }
  },
  "cells": [
    {
      "cell_type": "markdown",
      "metadata": {
        "id": "duGfSS5UsXIr"
      },
      "source": [
        "#Vinho Tinto ou Branco?\r\n",
        "\r\n",
        "A partir de um dataset contendo varias características de vinhos tintos e vinhos brancos, vamos criar um modelo de previsão de Machine Learning.\r\n",
        "\r\n",
        "\r\n",
        "Dataset utilizado: https://www.kaggle.com/dell4010/wine-dataset"
      ]
    },
    {
      "cell_type": "code",
      "metadata": {
        "id": "V1z-CB-KdG72"
      },
      "source": [
        "import pandas as pd\r\n",
        "import matplotlib.pyplot as plt\r\n",
        "import numpy as np"
      ],
      "execution_count": 1,
      "outputs": []
    },
    {
      "cell_type": "code",
      "metadata": {
        "id": "yeuespaPdYrK"
      },
      "source": [
        "df = pd.read_csv(\"/content/drive/MyDrive/Colab Notebooks/Curso python iniciantes youtube/wine_dataset.csv\")"
      ],
      "execution_count": 38,
      "outputs": []
    },
    {
      "cell_type": "code",
      "metadata": {
        "colab": {
          "base_uri": "https://localhost:8080/",
          "height": 198
        },
        "id": "aSHpWCTGdqDy",
        "outputId": "2dd0583a-d304-41f1-8d43-68eb8d22ee89"
      },
      "source": [
        "df.head()"
      ],
      "execution_count": 39,
      "outputs": [
        {
          "output_type": "execute_result",
          "data": {
            "text/html": [
              "<div>\n",
              "<style scoped>\n",
              "    .dataframe tbody tr th:only-of-type {\n",
              "        vertical-align: middle;\n",
              "    }\n",
              "\n",
              "    .dataframe tbody tr th {\n",
              "        vertical-align: top;\n",
              "    }\n",
              "\n",
              "    .dataframe thead th {\n",
              "        text-align: right;\n",
              "    }\n",
              "</style>\n",
              "<table border=\"1\" class=\"dataframe\">\n",
              "  <thead>\n",
              "    <tr style=\"text-align: right;\">\n",
              "      <th></th>\n",
              "      <th>fixed_acidity</th>\n",
              "      <th>volatile_acidity</th>\n",
              "      <th>citric_acid</th>\n",
              "      <th>residual_sugar</th>\n",
              "      <th>chlorides</th>\n",
              "      <th>free_sulfur_dioxide</th>\n",
              "      <th>total_sulfur_dioxide</th>\n",
              "      <th>density</th>\n",
              "      <th>pH</th>\n",
              "      <th>sulphates</th>\n",
              "      <th>alcohol</th>\n",
              "      <th>quality</th>\n",
              "      <th>style</th>\n",
              "    </tr>\n",
              "  </thead>\n",
              "  <tbody>\n",
              "    <tr>\n",
              "      <th>0</th>\n",
              "      <td>7.4</td>\n",
              "      <td>0.70</td>\n",
              "      <td>0.00</td>\n",
              "      <td>1.9</td>\n",
              "      <td>0.076</td>\n",
              "      <td>11.0</td>\n",
              "      <td>34.0</td>\n",
              "      <td>0.9978</td>\n",
              "      <td>3.51</td>\n",
              "      <td>0.56</td>\n",
              "      <td>9.4</td>\n",
              "      <td>5</td>\n",
              "      <td>red</td>\n",
              "    </tr>\n",
              "    <tr>\n",
              "      <th>1</th>\n",
              "      <td>7.8</td>\n",
              "      <td>0.88</td>\n",
              "      <td>0.00</td>\n",
              "      <td>2.6</td>\n",
              "      <td>0.098</td>\n",
              "      <td>25.0</td>\n",
              "      <td>67.0</td>\n",
              "      <td>0.9968</td>\n",
              "      <td>3.20</td>\n",
              "      <td>0.68</td>\n",
              "      <td>9.8</td>\n",
              "      <td>5</td>\n",
              "      <td>red</td>\n",
              "    </tr>\n",
              "    <tr>\n",
              "      <th>2</th>\n",
              "      <td>7.8</td>\n",
              "      <td>0.76</td>\n",
              "      <td>0.04</td>\n",
              "      <td>2.3</td>\n",
              "      <td>0.092</td>\n",
              "      <td>15.0</td>\n",
              "      <td>54.0</td>\n",
              "      <td>0.9970</td>\n",
              "      <td>3.26</td>\n",
              "      <td>0.65</td>\n",
              "      <td>9.8</td>\n",
              "      <td>5</td>\n",
              "      <td>red</td>\n",
              "    </tr>\n",
              "    <tr>\n",
              "      <th>3</th>\n",
              "      <td>11.2</td>\n",
              "      <td>0.28</td>\n",
              "      <td>0.56</td>\n",
              "      <td>1.9</td>\n",
              "      <td>0.075</td>\n",
              "      <td>17.0</td>\n",
              "      <td>60.0</td>\n",
              "      <td>0.9980</td>\n",
              "      <td>3.16</td>\n",
              "      <td>0.58</td>\n",
              "      <td>9.8</td>\n",
              "      <td>6</td>\n",
              "      <td>red</td>\n",
              "    </tr>\n",
              "    <tr>\n",
              "      <th>4</th>\n",
              "      <td>7.4</td>\n",
              "      <td>0.70</td>\n",
              "      <td>0.00</td>\n",
              "      <td>1.9</td>\n",
              "      <td>0.076</td>\n",
              "      <td>11.0</td>\n",
              "      <td>34.0</td>\n",
              "      <td>0.9978</td>\n",
              "      <td>3.51</td>\n",
              "      <td>0.56</td>\n",
              "      <td>9.4</td>\n",
              "      <td>5</td>\n",
              "      <td>red</td>\n",
              "    </tr>\n",
              "  </tbody>\n",
              "</table>\n",
              "</div>"
            ],
            "text/plain": [
              "   fixed_acidity  volatile_acidity  citric_acid  ...  alcohol  quality  style\n",
              "0            7.4              0.70         0.00  ...      9.4        5    red\n",
              "1            7.8              0.88         0.00  ...      9.8        5    red\n",
              "2            7.8              0.76         0.04  ...      9.8        5    red\n",
              "3           11.2              0.28         0.56  ...      9.8        6    red\n",
              "4            7.4              0.70         0.00  ...      9.4        5    red\n",
              "\n",
              "[5 rows x 13 columns]"
            ]
          },
          "metadata": {
            "tags": []
          },
          "execution_count": 39
        }
      ]
    },
    {
      "cell_type": "code",
      "metadata": {
        "colab": {
          "base_uri": "https://localhost:8080/",
          "height": 198
        },
        "id": "aLhhtX6_e2Fu",
        "outputId": "1013633f-8ef1-4ed9-99ab-72ea0fc14d8f"
      },
      "source": [
        "df.tail()"
      ],
      "execution_count": 9,
      "outputs": [
        {
          "output_type": "execute_result",
          "data": {
            "text/html": [
              "<div>\n",
              "<style scoped>\n",
              "    .dataframe tbody tr th:only-of-type {\n",
              "        vertical-align: middle;\n",
              "    }\n",
              "\n",
              "    .dataframe tbody tr th {\n",
              "        vertical-align: top;\n",
              "    }\n",
              "\n",
              "    .dataframe thead th {\n",
              "        text-align: right;\n",
              "    }\n",
              "</style>\n",
              "<table border=\"1\" class=\"dataframe\">\n",
              "  <thead>\n",
              "    <tr style=\"text-align: right;\">\n",
              "      <th></th>\n",
              "      <th>fixed_acidity</th>\n",
              "      <th>volatile_acidity</th>\n",
              "      <th>citric_acid</th>\n",
              "      <th>residual_sugar</th>\n",
              "      <th>chlorides</th>\n",
              "      <th>free_sulfur_dioxide</th>\n",
              "      <th>total_sulfur_dioxide</th>\n",
              "      <th>density</th>\n",
              "      <th>pH</th>\n",
              "      <th>sulphates</th>\n",
              "      <th>alcohol</th>\n",
              "      <th>quality</th>\n",
              "      <th>style</th>\n",
              "    </tr>\n",
              "  </thead>\n",
              "  <tbody>\n",
              "    <tr>\n",
              "      <th>6492</th>\n",
              "      <td>6.2</td>\n",
              "      <td>0.21</td>\n",
              "      <td>0.29</td>\n",
              "      <td>1.6</td>\n",
              "      <td>0.039</td>\n",
              "      <td>24.0</td>\n",
              "      <td>92.0</td>\n",
              "      <td>0.99114</td>\n",
              "      <td>3.27</td>\n",
              "      <td>0.50</td>\n",
              "      <td>11.2</td>\n",
              "      <td>6</td>\n",
              "      <td>white</td>\n",
              "    </tr>\n",
              "    <tr>\n",
              "      <th>6493</th>\n",
              "      <td>6.6</td>\n",
              "      <td>0.32</td>\n",
              "      <td>0.36</td>\n",
              "      <td>8.0</td>\n",
              "      <td>0.047</td>\n",
              "      <td>57.0</td>\n",
              "      <td>168.0</td>\n",
              "      <td>0.99490</td>\n",
              "      <td>3.15</td>\n",
              "      <td>0.46</td>\n",
              "      <td>9.6</td>\n",
              "      <td>5</td>\n",
              "      <td>white</td>\n",
              "    </tr>\n",
              "    <tr>\n",
              "      <th>6494</th>\n",
              "      <td>6.5</td>\n",
              "      <td>0.24</td>\n",
              "      <td>0.19</td>\n",
              "      <td>1.2</td>\n",
              "      <td>0.041</td>\n",
              "      <td>30.0</td>\n",
              "      <td>111.0</td>\n",
              "      <td>0.99254</td>\n",
              "      <td>2.99</td>\n",
              "      <td>0.46</td>\n",
              "      <td>9.4</td>\n",
              "      <td>6</td>\n",
              "      <td>white</td>\n",
              "    </tr>\n",
              "    <tr>\n",
              "      <th>6495</th>\n",
              "      <td>5.5</td>\n",
              "      <td>0.29</td>\n",
              "      <td>0.30</td>\n",
              "      <td>1.1</td>\n",
              "      <td>0.022</td>\n",
              "      <td>20.0</td>\n",
              "      <td>110.0</td>\n",
              "      <td>0.98869</td>\n",
              "      <td>3.34</td>\n",
              "      <td>0.38</td>\n",
              "      <td>12.8</td>\n",
              "      <td>7</td>\n",
              "      <td>white</td>\n",
              "    </tr>\n",
              "    <tr>\n",
              "      <th>6496</th>\n",
              "      <td>6.0</td>\n",
              "      <td>0.21</td>\n",
              "      <td>0.38</td>\n",
              "      <td>0.8</td>\n",
              "      <td>0.020</td>\n",
              "      <td>22.0</td>\n",
              "      <td>98.0</td>\n",
              "      <td>0.98941</td>\n",
              "      <td>3.26</td>\n",
              "      <td>0.32</td>\n",
              "      <td>11.8</td>\n",
              "      <td>6</td>\n",
              "      <td>white</td>\n",
              "    </tr>\n",
              "  </tbody>\n",
              "</table>\n",
              "</div>"
            ],
            "text/plain": [
              "      fixed_acidity  volatile_acidity  citric_acid  ...  alcohol  quality  style\n",
              "6492            6.2              0.21         0.29  ...     11.2        6  white\n",
              "6493            6.6              0.32         0.36  ...      9.6        5  white\n",
              "6494            6.5              0.24         0.19  ...      9.4        6  white\n",
              "6495            5.5              0.29         0.30  ...     12.8        7  white\n",
              "6496            6.0              0.21         0.38  ...     11.8        6  white\n",
              "\n",
              "[5 rows x 13 columns]"
            ]
          },
          "metadata": {
            "tags": []
          },
          "execution_count": 9
        }
      ]
    },
    {
      "cell_type": "markdown",
      "metadata": {
        "id": "BMwZifdMnoBE"
      },
      "source": [
        "Legenda:\r\n",
        "style: tipo do vinho\r\n",
        "> *   0 - red\r\n",
        "> *   1 - white\r\n"
      ]
    },
    {
      "cell_type": "code",
      "metadata": {
        "id": "WEgUdRdedvra"
      },
      "source": [
        "# df[\"style\"] = df[\"style\"].replace(\"red\", 0)\r\n",
        "# df[\"style\"] = df[\"style\"].replace(\"white\", 1)\r\n",
        "\r\n",
        "#ou\r\n",
        "df[\"style\"] = df[\"style\"].replace([\"red\", \"white\"], [0, 1])"
      ],
      "execution_count": 40,
      "outputs": []
    },
    {
      "cell_type": "code",
      "metadata": {
        "id": "dm2zt8ksnjra"
      },
      "source": [
        "#separar as variaveis entre peditoras e variavel alvo \r\n",
        "\r\n",
        "# deixamos em df separados, o que queremos prever, (nesse caso queremos saber se o vinho é tinto ou branco)\r\n",
        "y = df[\"style\"]\r\n",
        "\r\n",
        "# deixamos em outro df os valores que serão utilziados para previsão\r\n",
        "x = df.drop(\"style\", axis = 1)"
      ],
      "execution_count": 18,
      "outputs": []
    },
    {
      "cell_type": "code",
      "metadata": {
        "colab": {
          "base_uri": "https://localhost:8080/"
        },
        "id": "w64z8xcnpTJ8",
        "outputId": "26aea858-d05c-4f30-dd0f-f8775a6ba698"
      },
      "source": [
        "print(y)\r\n",
        "print(x)"
      ],
      "execution_count": 21,
      "outputs": [
        {
          "output_type": "stream",
          "text": [
            "0       0\n",
            "1       0\n",
            "2       0\n",
            "3       0\n",
            "4       0\n",
            "       ..\n",
            "6492    1\n",
            "6493    1\n",
            "6494    1\n",
            "6495    1\n",
            "6496    1\n",
            "Name: style, Length: 6497, dtype: int64\n",
            "      fixed_acidity  volatile_acidity  citric_acid  ...  sulphates  alcohol  quality\n",
            "0               7.4              0.70         0.00  ...       0.56      9.4        5\n",
            "1               7.8              0.88         0.00  ...       0.68      9.8        5\n",
            "2               7.8              0.76         0.04  ...       0.65      9.8        5\n",
            "3              11.2              0.28         0.56  ...       0.58      9.8        6\n",
            "4               7.4              0.70         0.00  ...       0.56      9.4        5\n",
            "...             ...               ...          ...  ...        ...      ...      ...\n",
            "6492            6.2              0.21         0.29  ...       0.50     11.2        6\n",
            "6493            6.6              0.32         0.36  ...       0.46      9.6        5\n",
            "6494            6.5              0.24         0.19  ...       0.46      9.4        6\n",
            "6495            5.5              0.29         0.30  ...       0.38     12.8        7\n",
            "6496            6.0              0.21         0.38  ...       0.32     11.8        6\n",
            "\n",
            "[6497 rows x 12 columns]\n"
          ],
          "name": "stdout"
        }
      ]
    },
    {
      "cell_type": "code",
      "metadata": {
        "id": "OJNud6Q4pULz"
      },
      "source": [
        "#separar dados entre conjunto de treino e conjunto de teste\r\n",
        "from sklearn.model_selection import train_test_split\r\n",
        "\r\n",
        "x_treino, x_teste, y_treino, y_teste = train_test_split(x, y, test_size = 0.3)"
      ],
      "execution_count": 22,
      "outputs": []
    },
    {
      "cell_type": "code",
      "metadata": {
        "colab": {
          "base_uri": "https://localhost:8080/"
        },
        "id": "Zb4UWq33p2aK",
        "outputId": "70f1e8e6-a647-49a3-f126-1acf8777a1af"
      },
      "source": [
        "print(df.shape)\r\n",
        "print(x_treino.shape)\r\n",
        "print(y_treino.shape)\r\n",
        "print(x_teste.shape)\r\n",
        "print(y_teste.shape)"
      ],
      "execution_count": 26,
      "outputs": [
        {
          "output_type": "stream",
          "text": [
            "(6497, 13)\n",
            "(4547, 12)\n",
            "(4547,)\n",
            "(1950, 12)\n",
            "(1950,)\n"
          ],
          "name": "stdout"
        }
      ]
    },
    {
      "cell_type": "markdown",
      "metadata": {
        "id": "uH0oIcN_umky"
      },
      "source": [
        "##ExtraTrees"
      ]
    },
    {
      "cell_type": "code",
      "metadata": {
        "colab": {
          "base_uri": "https://localhost:8080/"
        },
        "id": "COaDqlSqqQ2Q",
        "outputId": "c3d82446-a771-421d-a5d5-8ee79b04582e"
      },
      "source": [
        "from sklearn.ensemble import ExtraTreesClassifier\r\n",
        "#criação do modelo\r\n",
        "modelo = ExtraTreesClassifier()\r\n",
        "modelo.fit(x_treino, y_treino)\r\n",
        "\r\n",
        "#imprimindo resultados:\r\n",
        "resultadoExtraTrees = modelo.score(x_teste, y_teste)\r\n",
        "print(\"Acurácia: \", resultadoExtraTrees)"
      ],
      "execution_count": 29,
      "outputs": [
        {
          "output_type": "stream",
          "text": [
            "Acurácia:  0.9969230769230769\n"
          ],
          "name": "stdout"
        }
      ]
    },
    {
      "cell_type": "code",
      "metadata": {
        "colab": {
          "base_uri": "https://localhost:8080/"
        },
        "id": "FmgHQfdGq1ij",
        "outputId": "ceac3895-7292-473e-833b-d57d71d4deee"
      },
      "source": [
        "#pegar alguns valores do teste que ele não utilizou pra treinar e ver se ele acertaria\r\n",
        "print(x_teste[400:403]) \r\n",
        "\r\n",
        "print(\"gabarito\")\r\n",
        "print(y_teste[400:403])"
      ],
      "execution_count": 32,
      "outputs": [
        {
          "output_type": "stream",
          "text": [
            "      fixed_acidity  volatile_acidity  citric_acid  ...  sulphates  alcohol  quality\n",
            "482            10.6              0.36         0.59  ...       1.05      9.4        5\n",
            "86              8.6              0.49         0.28  ...       1.95      9.9        6\n",
            "5757            7.4              0.16         0.30  ...       0.44      8.7        7\n",
            "\n",
            "[3 rows x 12 columns]\n",
            "gabarito\n",
            "482     0\n",
            "86      0\n",
            "5757    1\n",
            "Name: style, dtype: int64\n"
          ],
          "name": "stdout"
        }
      ]
    },
    {
      "cell_type": "code",
      "metadata": {
        "colab": {
          "base_uri": "https://localhost:8080/"
        },
        "id": "uAyngoCTr8Xr",
        "outputId": "c9ef3e19-5cf6-4779-fa40-a32df3a2aef4"
      },
      "source": [
        "previsoes = modelo.predict(x_teste[400:403]) #eu poderia ter criado um outro df, mudando os dados no excel por exemplo, pra ver a previsao que ele me retornaria\r\n",
        "print(previsoes)"
      ],
      "execution_count": 33,
      "outputs": [
        {
          "output_type": "stream",
          "text": [
            "[0 0 1]\n"
          ],
          "name": "stdout"
        }
      ]
    },
    {
      "cell_type": "markdown",
      "metadata": {
        "id": "bKaa3TQAsE3G"
      },
      "source": [
        "previsão bateu com o gabarito."
      ]
    },
    {
      "cell_type": "markdown",
      "metadata": {
        "id": "c6DGghg2usUV"
      },
      "source": [
        "##NaiveBayes"
      ]
    },
    {
      "cell_type": "code",
      "metadata": {
        "colab": {
          "base_uri": "https://localhost:8080/"
        },
        "id": "LqpzVzKHuvM0",
        "outputId": "c6cd9b72-f0de-4755-ec78-f96004be6a7e"
      },
      "source": [
        "from sklearn.naive_bayes import GaussianNB\r\n",
        "#criação do modelo\r\n",
        "modeloNB = GaussianNB()\r\n",
        "modeloNB.fit(x_treino, y_treino)\r\n",
        "\r\n",
        "#imprimindo resultados:\r\n",
        "resultadoNB = modeloNB.score(x_teste, y_teste)\r\n",
        "print(\"Acurácia: \", resultadoNB)"
      ],
      "execution_count": 42,
      "outputs": [
        {
          "output_type": "stream",
          "text": [
            "Acurácia:  0.9743589743589743\n"
          ],
          "name": "stdout"
        }
      ]
    },
    {
      "cell_type": "code",
      "metadata": {
        "colab": {
          "base_uri": "https://localhost:8080/"
        },
        "id": "SZ_nOqUGvcv9",
        "outputId": "3bde5f89-b2eb-4695-a5b0-4ba804e5876c"
      },
      "source": [
        "#pegar alguns valores do teste que ele não utilizou pra treinar e ver se ele acertaria\r\n",
        "print(x_teste[400:403]) \r\n",
        "\r\n",
        "print(\"gabarito\")\r\n",
        "print(y_teste[400:403])\r\n",
        "\r\n",
        "previsoesNB = modeloNB.predict(x_teste[400:403]) #eu poderia ter criado um outro df, mudando os dados no excel por exemplo, pra ver a previsao que ele me retornaria\r\n",
        "print(previsoesNB)"
      ],
      "execution_count": 43,
      "outputs": [
        {
          "output_type": "stream",
          "text": [
            "      fixed_acidity  volatile_acidity  citric_acid  ...  sulphates  alcohol  quality\n",
            "482            10.6              0.36         0.59  ...       1.05      9.4        5\n",
            "86              8.6              0.49         0.28  ...       1.95      9.9        6\n",
            "5757            7.4              0.16         0.30  ...       0.44      8.7        7\n",
            "\n",
            "[3 rows x 12 columns]\n",
            "gabarito\n",
            "482     0\n",
            "86      0\n",
            "5757    1\n",
            "Name: style, dtype: int64\n",
            "[0 0 1]\n"
          ],
          "name": "stdout"
        }
      ]
    },
    {
      "cell_type": "markdown",
      "metadata": {
        "id": "qgGA9p9yv-LT"
      },
      "source": [
        "## StandardScaler"
      ]
    },
    {
      "cell_type": "code",
      "metadata": {
        "id": "TRktEa2AwDRz"
      },
      "source": [
        "from sklearn.preprocessing import StandardScaler\r\n",
        "scaler = StandardScaler()\r\n",
        "\r\n",
        "#Cálculo da média e desvio padrão dos dados\r\n",
        "scaler.fit(x)\r\n",
        "\r\n",
        "#normalização dos dados\r\n",
        "x = scaler.transform(x)"
      ],
      "execution_count": 50,
      "outputs": []
    },
    {
      "cell_type": "code",
      "metadata": {
        "id": "tmyFgo2pwteY"
      },
      "source": [
        "from sklearn.neural_network import MLPClassifier\r\n",
        "#construção de Rede Neural MLP\r\n",
        "mlp_model = MLPClassifier(solver='adam', hidden_layer_sizes = {90,50},random_state=1, max_iter=300, activation='logistic')\r\n",
        "\r\n",
        "# Treinamento da rede\r\n",
        "mlp_model.fit(x_treino, y_treino)\r\n",
        "\r\n",
        "# Previsão das saídas considerando os registros de teste\r\n",
        "previsaomlp = mlp_model.predict(x_teste)\r\n"
      ],
      "execution_count": 65,
      "outputs": []
    },
    {
      "cell_type": "code",
      "metadata": {
        "colab": {
          "base_uri": "https://localhost:8080/"
        },
        "id": "nip1asMWx5FZ",
        "outputId": "72293809-55c8-45d3-decd-2a3400587bc1"
      },
      "source": [
        "from sklearn.metrics import accuracy_score\r\n",
        "\r\n",
        "print(accuracy_score(y_teste, previsaomlp))"
      ],
      "execution_count": 66,
      "outputs": [
        {
          "output_type": "stream",
          "text": [
            "0.9861538461538462\n"
          ],
          "name": "stdout"
        }
      ]
    }
  ]
}